{
 "cells": [
  {
   "cell_type": "code",
   "execution_count": null,
   "id": "d8f6cbc6",
   "metadata": {},
   "outputs": [],
   "source": [
    "!pip install pdfalign"
   ]
  },
  {
   "cell_type": "markdown",
   "id": "be854214",
   "metadata": {},
   "source": [
    "## Extract from PDF"
   ]
  },
  {
   "cell_type": "code",
   "execution_count": null,
   "id": "4caf3bcf",
   "metadata": {},
   "outputs": [],
   "source": [
    "# Load package\n",
    "from pdfalign import align"
   ]
  },
  {
   "cell_type": "code",
   "execution_count": null,
   "id": "4f29d375",
   "metadata": {},
   "outputs": [],
   "source": [
    "pages = align('test_data/sample-invoice.pdf')"
   ]
  },
  {
   "cell_type": "code",
   "execution_count": null,
   "id": "7c02cca8",
   "metadata": {},
   "outputs": [],
   "source": [
    "for page in pages:\n",
    "    print(page['text'])"
   ]
  },
  {
   "cell_type": "code",
   "execution_count": null,
   "id": "39fc6e4f",
   "metadata": {},
   "outputs": [],
   "source": [
    "pages[0]['dataframe']"
   ]
  },
  {
   "cell_type": "code",
   "execution_count": null,
   "id": "63f7cc1c",
   "metadata": {},
   "outputs": [],
   "source": []
  }
 ],
 "metadata": {
  "kernelspec": {
   "display_name": "Python 3 (ipykernel)",
   "language": "python",
   "name": "python3"
  },
  "language_info": {
   "codemirror_mode": {
    "name": "ipython",
    "version": 3
   },
   "file_extension": ".py",
   "mimetype": "text/x-python",
   "name": "python",
   "nbconvert_exporter": "python",
   "pygments_lexer": "ipython3",
   "version": "3.10.11"
  }
 },
 "nbformat": 4,
 "nbformat_minor": 5
}
